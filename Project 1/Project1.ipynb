{
 "cells": [
  {
   "cell_type": "markdown",
   "id": "d5cd24b5-24b8-4b6b-8ee5-b544645bf1fb",
   "metadata": {},
   "source": [
    "first third - Anthony"
   ]
  },
  {
   "cell_type": "code",
   "execution_count": null,
   "id": "63cd0939",
   "metadata": {},
   "outputs": [],
   "source": []
  },
  {
   "cell_type": "markdown",
   "id": "50378eff-bec6-4d36-a784-acdca61f7a3f",
   "metadata": {},
   "source": [
    "second third - Swetha"
   ]
  },
  {
   "cell_type": "code",
   "execution_count": null,
   "id": "7fcdbd40-1307-4c94-90af-0e693340194e",
   "metadata": {},
   "outputs": [],
   "source": []
  },
  {
   "cell_type": "markdown",
   "id": "1287ac51-828f-43a2-80a0-bb5778ae9487",
   "metadata": {},
   "source": [
    "last third - Morgan"
   ]
  },
  {
   "cell_type": "code",
   "execution_count": null,
   "id": "08312ee2-437b-4ce2-8a54-32ef835f0333",
   "metadata": {},
   "outputs": [],
   "source": []
  }
 ],
 "metadata": {
  "kernelspec": {
   "display_name": "Python 3 (ipykernel)",
   "language": "python",
   "name": "python3"
  },
  "language_info": {
   "codemirror_mode": {
    "name": "ipython",
    "version": 3
   },
   "file_extension": ".py",
   "mimetype": "text/x-python",
   "name": "python",
   "nbconvert_exporter": "python",
   "pygments_lexer": "ipython3",
   "version": "3.9.12"
  }
 },
 "nbformat": 4,
 "nbformat_minor": 5
}
