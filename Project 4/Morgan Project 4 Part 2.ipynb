{
 "cells": [
  {
   "cell_type": "code",
   "execution_count": 2,
   "id": "376b241f-d90d-4e7a-8f07-46f4401be4fe",
   "metadata": {},
   "outputs": [
    {
     "name": "stdout",
     "output_type": "stream",
     "text": [
      "Collecting igraph\n",
      "  Downloading igraph-0.9.11-1-cp39-cp39-macosx_10_9_x86_64.whl (2.0 MB)\n",
      "\u001b[K     |████████████████████████████████| 2.0 MB 3.6 MB/s eta 0:00:01\n",
      "\u001b[?25hCollecting texttable>=1.6.2\n",
      "  Downloading texttable-1.6.4-py2.py3-none-any.whl (10 kB)\n",
      "Installing collected packages: texttable, igraph\n",
      "Successfully installed igraph-0.9.11 texttable-1.6.4\n"
     ]
    }
   ],
   "source": [
    "!pip3 install igraph"
   ]
  },
  {
   "cell_type": "code",
   "execution_count": 3,
   "id": "e8473e00-529f-471e-831f-e3527f3849a1",
   "metadata": {},
   "outputs": [],
   "source": [
    "from igraph import *\n",
    "import json\n",
    "import random\n",
    "import numpy as np\n",
    "from numpy import linalg as LA\n",
    "import itertools\n",
    "import matplotlib.pyplot as plt\n",
    "from scipy.spatial import Delaunay  \n",
    "import os\n",
    "import pandas as pd\n",
    "from copy import deepcopy\n",
    "random.seed(2022)\n",
    "np.random.seed(2022)"
   ]
  },
  {
   "cell_type": "code",
   "execution_count": 5,
   "id": "1b81cbf8-3350-46b8-93c3-2faca5985cdb",
   "metadata": {},
   "outputs": [],
   "source": [
    "with open('los_angeles_censustracts.json') as f:\n",
    "    census_tracts = json.loads(f.readline())"
   ]
  },
  {
   "cell_type": "code",
   "execution_count": 6,
   "id": "6f564a1f-9d82-404f-ab75-af5796fbd883",
   "metadata": {},
   "outputs": [],
   "source": [
    "# Creating the dictionary storing the Unique IDs and the latitidue and longitude information\n",
    "display_names = dict()\n",
    "coordinates = dict()\n",
    "\n",
    "for area in census_tracts['features']:\n",
    "    id = int(area['properties']['MOVEMENT_ID'])\n",
    "    display_name = area['properties']['DISPLAY_NAME']\n",
    "    display_names[id] = display_name\n",
    "    a = area['geometry']['coordinates'][0]\n",
    "    coordinates[id] = np.array(a if type(a[0][0]) == float else a[0]).mean(axis=0)"
   ]
  },
  {
   "cell_type": "code",
   "execution_count": 7,
   "id": "fc4b10c6-ad35-49cf-b8a8-c9767d32fecd",
   "metadata": {},
   "outputs": [
    {
     "name": "stdout",
     "output_type": "stream",
     "text": [
      "1: Census Tract 480302, [-118.12053321   34.10309557]\n",
      "2: Census Tract 480303, [-118.13785063   34.09645121]\n",
      "3: Census Tract 480304, [-118.13138209   34.09626386]\n",
      "4: Census Tract 480400, [-118.13224544   34.10349303]\n",
      "5: Census Tract 480500, [-118.14492317   34.0986815 ]\n"
     ]
    }
   ],
   "source": [
    "# Printing some sample IDs and coordinates\n",
    "for i in range(5):\n",
    "    key = i + 1\n",
    "    print('{}: {}, {}'.format(key, display_names[key], coordinates[key]))"
   ]
  },
  {
   "cell_type": "code",
   "execution_count": 8,
   "id": "f968e672-4845-41b7-89be-2ee48610ed9f",
   "metadata": {},
   "outputs": [],
   "source": [
    "# Creating the undirected graph\n",
    "g = Graph(directed=False)\n",
    "g.add_vertices(len(display_names))\n",
    "g.vs['display_name'] = list(display_names.values())  # index = id - 1\n",
    "g.vs['coordinates'] = list(coordinates.values())"
   ]
  },
  {
   "cell_type": "code",
   "execution_count": 10,
   "id": "02982ac7-3c9b-41cf-aa90-06b41bcb909f",
   "metadata": {},
   "outputs": [],
   "source": [
    "# Reading in the mean travel times from the csv files\n",
    "month_filter = {12}  # for monthly aggregate data of 4th quarter, we can filter data based off of only December\n",
    "\n",
    "edges = []\n",
    "weights = []\n",
    "\n",
    "with open('los_angeles-censustracts-2019-4-All-MonthlyAggregate.csv') as f:\n",
    "    f.readline()  # skip the first line\n",
    "    \n",
    "    while True:\n",
    "        line = f.readline()\n",
    "        if line == '':\n",
    "            break  # end of file\n",
    "        \n",
    "        vals = line.strip().split(',')\n",
    "        \n",
    "        # read edge info\n",
    "        src, dest, month, dist = int(vals[0]), int(vals[1]), int(vals[2]), float(vals[3])\n",
    "\n",
    "        # if data is not relevant, skip it\n",
    "        if month not in month_filter:\n",
    "            continue\n",
    "            \n",
    "        edges.append((src - 1, dest - 1))\n",
    "        weights.append(dist)  "
   ]
  },
  {
   "cell_type": "code",
   "execution_count": 12,
   "id": "2b946b04-bf14-46e8-a4b6-b2b19ded3c6d",
   "metadata": {},
   "outputs": [],
   "source": [
    "# Adding weighted edges to the graph\n",
    "g.add_edges(edges)\n",
    "g.es['weight'] = weights"
   ]
  },
  {
   "cell_type": "markdown",
   "id": "2fac0f2e-5d7e-4ce7-bb92-1c058ed5ee8c",
   "metadata": {},
   "source": [
    "QUESTION 9: Report the number of nodes and edges in G."
   ]
  },
  {
   "cell_type": "code",
   "execution_count": 13,
   "id": "60103e98-f5ae-4a7c-87e0-e53f0c648529",
   "metadata": {},
   "outputs": [],
   "source": [
    "# Keeping only the giant connected component\n",
    "components = g.components()\n",
    "gcc = max(components, key=len)\n",
    "vs_to_delete = [i for i in range(len(g.vs)) if i not in gcc]\n",
    "g.delete_vertices(vs_to_delete)\n",
    "\n",
    "# Removing the duplicate edges\n",
    "g = g.simplify(combine_edges=dict(weight='mean')) "
   ]
  },
  {
   "cell_type": "code",
   "execution_count": 14,
   "id": "3164c1ae-05f9-4ef4-8709-51f1a157afa1",
   "metadata": {},
   "outputs": [
    {
     "name": "stdout",
     "output_type": "stream",
     "text": [
      "2649 1003858\n"
     ]
    }
   ],
   "source": [
    "print(len(g.vs), len(g.es))"
   ]
  },
  {
   "cell_type": "markdown",
   "id": "06867b69-967d-4755-8d44-6ffd14cd74ff",
   "metadata": {},
   "source": [
    "QUESTION 10: Build a minimum spanning tree (MST) of graph G. Report the street addresses near the two endpoints (the centroid locations) of a few edges. Are the results intuitive?"
   ]
  },
  {
   "cell_type": "code",
   "execution_count": 15,
   "id": "5b3aea0e-2a8b-4d16-abb1-fbaea2ddad64",
   "metadata": {},
   "outputs": [
    {
     "data": {
      "text/html": [
       "<div>\n",
       "<style scoped>\n",
       "    .dataframe tbody tr th:only-of-type {\n",
       "        vertical-align: middle;\n",
       "    }\n",
       "\n",
       "    .dataframe tbody tr th {\n",
       "        vertical-align: top;\n",
       "    }\n",
       "\n",
       "    .dataframe thead th {\n",
       "        text-align: right;\n",
       "    }\n",
       "</style>\n",
       "<table border=\"1\" class=\"dataframe\">\n",
       "  <thead>\n",
       "    <tr style=\"text-align: right;\">\n",
       "      <th></th>\n",
       "      <th>source</th>\n",
       "      <th>target</th>\n",
       "      <th>weight</th>\n",
       "    </tr>\n",
       "    <tr>\n",
       "      <th>edge ID</th>\n",
       "      <th></th>\n",
       "      <th></th>\n",
       "      <th></th>\n",
       "    </tr>\n",
       "  </thead>\n",
       "  <tbody>\n",
       "    <tr>\n",
       "      <th>0</th>\n",
       "      <td>0</td>\n",
       "      <td>2</td>\n",
       "      <td>129.765</td>\n",
       "    </tr>\n",
       "    <tr>\n",
       "      <th>1</th>\n",
       "      <td>0</td>\n",
       "      <td>13</td>\n",
       "      <td>118.335</td>\n",
       "    </tr>\n",
       "    <tr>\n",
       "      <th>2</th>\n",
       "      <td>1</td>\n",
       "      <td>2</td>\n",
       "      <td>90.235</td>\n",
       "    </tr>\n",
       "    <tr>\n",
       "      <th>3</th>\n",
       "      <td>1</td>\n",
       "      <td>3</td>\n",
       "      <td>126.475</td>\n",
       "    </tr>\n",
       "    <tr>\n",
       "      <th>4</th>\n",
       "      <td>1</td>\n",
       "      <td>9</td>\n",
       "      <td>125.675</td>\n",
       "    </tr>\n",
       "  </tbody>\n",
       "</table>\n",
       "</div>"
      ],
      "text/plain": [
       "         source  target   weight\n",
       "edge ID                         \n",
       "0             0       2  129.765\n",
       "1             0      13  118.335\n",
       "2             1       2   90.235\n",
       "3             1       3  126.475\n",
       "4             1       9  125.675"
      ]
     },
     "execution_count": 15,
     "metadata": {},
     "output_type": "execute_result"
    }
   ],
   "source": [
    "# Building a minimum spanning tree\n",
    "mst = g.spanning_tree(weights=g.es['weight'])\n",
    "\n",
    "# Printing some sample edges\n",
    "edf = mst.get_edge_dataframe()\n",
    "edf.head()"
   ]
  },
  {
   "cell_type": "markdown",
   "id": "6d7aa671-2fa7-410c-bf40-279c869e0469",
   "metadata": {},
   "source": [
    "Need to find the centroids and the street addresses for these."
   ]
  },
  {
   "cell_type": "markdown",
   "id": "feb583f3-03bc-425b-ab33-7973f3a77c1e",
   "metadata": {},
   "source": [
    "QUESTION 11: Determine what percentage of triangles in the graph (sets of 3 points on the map) satisfy the triangle inequality. You do not need to inspect all triangles, you can just estimate by random sampling of 1000 triangles."
   ]
  },
  {
   "cell_type": "code",
   "execution_count": 16,
   "id": "19176305-9296-4b8a-9bf1-449c47500311",
   "metadata": {},
   "outputs": [],
   "source": [
    "# Helper functions for triangle inequality\n",
    "\n",
    "def is_triangle(sides):\n",
    "    smallest, medium, biggest = sorted(sides)\n",
    "    return smallest + medium > biggest\n",
    "\n",
    "\n",
    "def sample_triangles(g, n_samples):\n",
    "    result = list()\n",
    "    adjlist = [set(neis) for neis in g.get_adjlist()]\n",
    "    \n",
    "    while len(result) < n_samples:\n",
    "        vertex = np.random.randint(len(g.vs))\n",
    "        neis = adjlist[vertex]\n",
    "        nei_pairs = list(itertools.combinations(neis, 2))\n",
    "        if len(nei_pairs) == 0:\n",
    "            continue\n",
    "        nei_pair_ind = np.random.randint(len(nei_pairs))\n",
    "        nei1, nei2 = nei_pairs[nei_pair_ind]\n",
    "        if nei1 in adjlist[nei2]:\n",
    "            result.append(tuple(sorted((vertex, nei1, nei2))))\n",
    "                \n",
    "    return result"
   ]
  },
  {
   "cell_type": "code",
   "execution_count": 17,
   "id": "7219c944-241a-4927-9414-bd161b5a49dd",
   "metadata": {},
   "outputs": [
    {
     "name": "stdout",
     "output_type": "stream",
     "text": [
      "Triangle inequality holds by 90.8%\n"
     ]
    }
   ],
   "source": [
    "n_samples = 1000\n",
    "triangles = 0\n",
    "\n",
    "for triangle_vs in sample_triangles(g, n_samples):\n",
    "    \n",
    "    edge_lengths = []\n",
    "    \n",
    "    for i in range(3):\n",
    "        for j in range(i):\n",
    "            edge_lengths.append(min(g.es.select(_between=([triangle_vs[i]], [triangle_vs[j]]))['weight']))   \n",
    "            \n",
    "    triangles += is_triangle(edge_lengths)\n",
    "    \n",
    "print('Triangle inequality holds by {}%'.format(round(100.0 * triangles / n_samples, 1)))"
   ]
  },
  {
   "cell_type": "markdown",
   "id": "adc424af-21e1-4952-b12c-93169565c769",
   "metadata": {},
   "source": [
    "QUESTION 12: Find an upper bound on the empirical performance of the approximate algorithm:  \n",
    "$\\rho=\\frac{Approximate TSP Cost}{Optimal TSP Cost}$"
   ]
  },
  {
   "cell_type": "code",
   "execution_count": 18,
   "id": "629c7aa4-c1c2-4fa9-b5a8-b2c1fab68a00",
   "metadata": {},
   "outputs": [],
   "source": [
    "# Helper function\n",
    "\n",
    "def preorder_traversal(root, root_parent=None):\n",
    "    result = [root]\n",
    "    \n",
    "    for v in root.neighbors():\n",
    "        if v == root_parent:\n",
    "            continue\n",
    "        result.extend(preorder_traversal(v, root))\n",
    "        \n",
    "    return result"
   ]
  },
  {
   "cell_type": "code",
   "execution_count": 20,
   "id": "7a332121-0dab-4b85-9182-f7a38c35c80c",
   "metadata": {},
   "outputs": [],
   "source": [
    "tsp = [v.index for v in preorder_traversal(mst.vs[0])]\n",
    "#print('IDs:\\n' + '-' * 10 + '\\n' + '\\n'.join([mst.vs[i]['display_name'] for i in tsp]))"
   ]
  },
  {
   "cell_type": "code",
   "execution_count": 21,
   "id": "3466ef6a-fa98-4566-8b4d-57fc73ea6216",
   "metadata": {},
   "outputs": [
    {
     "name": "stdout",
     "output_type": "stream",
     "text": [
      "0\n",
      "100\n",
      "200\n",
      "300\n",
      "400\n",
      "500\n",
      "600\n",
      "700\n",
      "800\n",
      "900\n",
      "1000\n",
      "1100\n",
      "1200\n",
      "1300\n",
      "1400\n",
      "1500\n",
      "1600\n",
      "1700\n",
      "1800\n",
      "1900\n",
      "2000\n",
      "2100\n",
      "2200\n",
      "2300\n",
      "2400\n",
      "2500\n",
      "2600\n"
     ]
    }
   ],
   "source": [
    "# Helper function for computing Approximate TSP cost\n",
    "tsp_cost = 0\n",
    "for i in range(len(tsp)):\n",
    "    if i % 100 == 0:\n",
    "        print(i)\n",
    "        \n",
    "    # below, the remainder is for circular indexing. i.e. the last element is connected back to the first element\n",
    "    src, dest = tsp[i], tsp[(i + 1) % len(tsp)]\n",
    "    direct_dists = g.es.select(_source=src, _target=dest)['weight']\n",
    "    \n",
    "    if direct_dists:  # if we directly have distance information\n",
    "        tsp_cost += min(direct_dists)\n",
    "    else:\n",
    "        epath = mst.get_shortest_paths(v=src, to=dest, weights='weight', output='epath')[0]\n",
    "        tsp_cost += sum([mst.es[i]['weight'] for i in epath])"
   ]
  },
  {
   "cell_type": "code",
   "execution_count": 22,
   "id": "e98082c5-c91d-46f0-885a-0a53866de3fe",
   "metadata": {},
   "outputs": [
    {
     "name": "stdout",
     "output_type": "stream",
     "text": [
      "MST Cost: 269085\n",
      "TSP Cost: 463638\n",
      "Ratio: 1.72\n"
     ]
    }
   ],
   "source": [
    "mst_cost = sum(mst.es['weight'])\n",
    "print('MST Cost:', round(mst_cost))\n",
    "print('TSP Cost:', round(tsp_cost))\n",
    "print('Ratio:', round(tsp_cost/mst_cost, 2))"
   ]
  },
  {
   "cell_type": "markdown",
   "id": "80bf9bca-b221-4a94-bcd1-892470b20f6d",
   "metadata": {},
   "source": [
    "QUESTION 13: Plot the trajectory that Santa has to travel!"
   ]
  },
  {
   "cell_type": "code",
   "execution_count": null,
   "id": "ea16c3d8-4f1d-4de9-b296-6883941386e4",
   "metadata": {},
   "outputs": [],
   "source": []
  }
 ],
 "metadata": {
  "kernelspec": {
   "display_name": "Python 3 (ipykernel)",
   "language": "python",
   "name": "python3"
  },
  "language_info": {
   "codemirror_mode": {
    "name": "ipython",
    "version": 3
   },
   "file_extension": ".py",
   "mimetype": "text/x-python",
   "name": "python",
   "nbconvert_exporter": "python",
   "pygments_lexer": "ipython3",
   "version": "3.9.12"
  }
 },
 "nbformat": 4,
 "nbformat_minor": 5
}
